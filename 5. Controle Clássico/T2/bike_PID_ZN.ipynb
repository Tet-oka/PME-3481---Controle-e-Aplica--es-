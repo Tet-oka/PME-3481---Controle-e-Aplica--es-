{
 "cells": [
  {
   "cell_type": "markdown",
   "metadata": {},
   "source": [
    "# Bicicleta de Whipple\n",
    "\n",
    "\n",
    "Modelo linearizado em torno de uma solução em regime permanente na qual a bicicleta descreve uma translação em linha reta com velocidade \\(v\\) constante [(Meijaard *et al.*, 2007)](https://dx.doi.org/10.1098/rspa.2007.1857):\n",
    "\\begin{align*}\n",
    "    M \\ddot q = - v C_1 \\dot q - (g K_0 + v^2 K_2 ) q + \\tau\n",
    "\\end{align*}\n",
    "com $q = (\\phi, \\delta) \\in \\mathbb{R}^2$ e $\\tau = (\\tau_\\phi, \\tau_\\delta) = (w, u)$."
   ]
  },
  {
   "cell_type": "code",
   "execution_count": 4,
   "metadata": {},
   "outputs": [],
   "source": [
    "# !pip install sympy\n",
    "# !pip install control\n",
    "# !pip install tbcontrol\n",
    "# !pip install ipywidgets"
   ]
  },
  {
   "cell_type": "code",
   "execution_count": 5,
   "metadata": {},
   "outputs": [],
   "source": [
    "import numpy as np\n",
    "import sympy as sp\n",
    "import matplotlib.pyplot as plt\n",
    "import control as ct\n",
    "from tbcontrol.symbolic import routh\n",
    "\n",
    "# import ipywidgets as widgets\n",
    "# from ipywidgets import interactive"
   ]
  },
  {
   "cell_type": "code",
   "execution_count": 6,
   "metadata": {},
   "outputs": [],
   "source": [
    "# Paleta de cores\n",
    "cp = {\n",
    "    'red': (1.0, 0.349, 0.369, 1.0),\n",
    "    'green': (0.541, 0.788, 0.149, 1.0),\n",
    "    'blue': (0.098, 0.510, 0.769, 1.0),\n",
    "    'lred': (1.0, 0.588, 0.6, 1.0),\n",
    "    'lgreen': (0.722, 0.894, 0.443, 1.0),\n",
    "    'lblue': (0.369, 0.706, 0.918, 1.0),\n",
    "    'orange': (1.0, 0.506, 0.227, 1.0),\n",
    "    'yellow': (1.0, 0.792, 0.227, 1.0),\n",
    "    'pink': (1.0, 0.349, 0.611, 1.0),\n",
    "    'purple': (0.416, 0.298, 0.576, 1.0),\n",
    "    'turquoise': (0.098, 0.761, 0.769, 1.0),\n",
    "    'brown': (0.576, 0.380, 0.298, 1.0)\n",
    "}"
   ]
  },
  {
   "cell_type": "markdown",
   "metadata": {},
   "source": [
    "## 1. Sistema na forma de espaço de estados\n",
    "\n",
    "\\begin{align*}\n",
    "    & \\dot x = A(v) x + B u + E w \\\\ \n",
    "    & y = C x\n",
    "\\end{align*}"
   ]
  },
  {
   "cell_type": "code",
   "execution_count": 7,
   "metadata": {},
   "outputs": [],
   "source": [
    "v = sp.symbols('v')\n",
    "\n",
    "M = sp.Matrix([[80.81722, 2.31941332208709],\n",
    "              [2.31941332208709, 0.29784188199686]])\n",
    "\n",
    "K0 = sp.Matrix([[-80.95,-2.59951685249872],\n",
    "                [-2.59951685249872,-0.80329488458618]])\n",
    "\n",
    "K2 = sp.Matrix([[0,76.59734589573222],\n",
    "                [0,2.65431523794604]])\n",
    "\n",
    "C1 = sp.Matrix([[0,33.86641391492494],\n",
    "                [-0.85035641456978,1.68540397397560]])\n",
    "\n",
    "A = sp.Matrix([[sp.zeros(2,2), sp.eye(2)],\n",
    "               [- M.inv() * (9.81 * K0 + v * v *K2), -M.inv()*(v*C1)]])\n",
    "\n",
    "Be = sp.Matrix([[sp.zeros(2,2)],\n",
    "               [M.inv()]])\n",
    "\n",
    "B = Be[:, 1]\n",
    "E = Be[:, 0]\n",
    "\n",
    "C_φ = sp.Matrix([[1, 0, 0, 0]])\n",
    "C_δ = sp.Matrix([[0, 1, 0, 0]])\n",
    "\n",
    "An = sp.lambdify((v), A)\n",
    "Bn = np.array(B)\n",
    "En = np.array(E)"
   ]
  },
  {
   "cell_type": "markdown",
   "metadata": {},
   "source": [
    "## 2. Função de transferência em malha aberta"
   ]
  },
  {
   "cell_type": "code",
   "execution_count": 57,
   "metadata": {},
   "outputs": [],
   "source": [
    "bike_ss = ct.ss(An(6), B, C_φ, 0)"
   ]
  },
  {
   "cell_type": "code",
   "execution_count": 58,
   "metadata": {},
   "outputs": [
    {
     "data": {
      "text/latex": [
       "$$\\frac{-0.1241 s^2 - 10.87 s - 146.2}{s^4 + 19.14 s^3 + 86.05 s^2 + 593.4 s + 2.412}$$"
      ],
      "text/plain": [
       "TransferFunction(array([-1.24092025e-01, -1.08714178e+01, -1.46166191e+02]), array([  1.        ,  19.14232786,  86.05069461, 593.3528833 ,\n",
       "         2.41168533]))"
      ]
     },
     "execution_count": 58,
     "metadata": {},
     "output_type": "execute_result"
    }
   ],
   "source": [
    "G_p0 = ct.tf(bike_ss)\n",
    "G_p0"
   ]
  },
  {
   "cell_type": "code",
   "execution_count": 9,
   "metadata": {},
   "outputs": [
    {
     "data": {
      "text/plain": [
       "array([-1.24092025e-01, -1.08714178e+01, -1.46166191e+02])"
      ]
     },
     "execution_count": 9,
     "metadata": {},
     "output_type": "execute_result"
    }
   ],
   "source": [
    "G_p0.num[0][0]"
   ]
  },
  {
   "cell_type": "code",
   "execution_count": 10,
   "metadata": {},
   "outputs": [
    {
     "data": {
      "text/plain": [
       "array([  1.        ,  19.14232786,  86.05069461, 593.3528833 ,\n",
       "         2.41168533])"
      ]
     },
     "execution_count": 10,
     "metadata": {},
     "output_type": "execute_result"
    }
   ],
   "source": [
    "G_p0.den[0][0]"
   ]
  },
  {
   "cell_type": "code",
   "execution_count": 55,
   "metadata": {},
   "outputs": [],
   "source": [
    "# elimina, se aparecer, um termo efetivamente nulo (< 1e-10 * s^3) no numerador\n",
    "if (np.abs(G_p0.num[0][0][0]) < 1e-10):\n",
    "    G_p = ct.tf(G_p0.num[0][0][1:], G_p0.den[0][0])\n",
    "else:\n",
    "    G_p = G_p0"
   ]
  },
  {
   "cell_type": "code",
   "execution_count": 56,
   "metadata": {},
   "outputs": [
    {
     "data": {
      "text/latex": [
       "$$\\frac{-0.1241 s^2 - 10.87 s - 146.2}{s^4 + 19.14 s^3 + 86.05 s^2 + 593.4 s + 2.412}$$"
      ],
      "text/plain": [
       "TransferFunction(array([-1.24092025e-01, -1.08714178e+01, -1.46166191e+02]), array([  1.        ,  19.14232786,  86.05069461, 593.3528833 ,\n",
       "         2.41168533]))"
      ]
     },
     "execution_count": 56,
     "metadata": {},
     "output_type": "execute_result"
    }
   ],
   "source": [
    "G_p"
   ]
  },
  {
   "cell_type": "code",
   "execution_count": 31,
   "metadata": {},
   "outputs": [
    {
     "data": {
      "text/plain": [
       "array([-1.60853712e+01+0.j        , -1.52644487e+00+5.87673061j,\n",
       "       -1.52644487e+00-5.87673061j, -4.06690077e-03+0.j        ])"
      ]
     },
     "execution_count": 31,
     "metadata": {},
     "output_type": "execute_result"
    }
   ],
   "source": [
    "G_p.poles()"
   ]
  },
  {
   "cell_type": "code",
   "execution_count": 32,
   "metadata": {},
   "outputs": [
    {
     "data": {
      "text/plain": [
       "array([-71.02318781+0.j, -16.58451952+0.j])"
      ]
     },
     "execution_count": 32,
     "metadata": {},
     "output_type": "execute_result"
    }
   ],
   "source": [
    "G_p.zeros()"
   ]
  },
  {
   "cell_type": "markdown",
   "metadata": {},
   "source": [
    "## 3. Ganho crítico de controle via Routh-Hurwitz"
   ]
  },
  {
   "cell_type": "code",
   "execution_count": 33,
   "metadata": {},
   "outputs": [
    {
     "data": {
      "text/latex": [
       "$\\displaystyle \\left[\\begin{matrix}1.0 & 86.0506946134026 - 0.124092025411581 K_{c} & 2.41168533404044 - 146.166190513899 K_{c}\\\\19.1423278634325 & 593.352883302431 - 10.8714178437542 K_{c} & 0\\\\0.443833564480849 K_{c} + 55.053791439682 & 2.41168533404044 - 146.166190513899 K_{c} & 0\\\\\\frac{- 4.82510013255414 K_{c}^{2} + 2462.79829593342 K_{c} + 32620.1606160984}{0.443833564480849 K_{c} + 55.053791439682} & 0 & 0\\\\\\frac{705.266505223547 K_{c}^{3} - 359989.481543935 K_{c}^{2} - 4762025.11667562 K_{c} + 78669.5629518882}{- 4.82510013255414 K_{c}^{2} + 2462.79829593342 K_{c} + 32620.1606160984} & 0 & 0\\end{matrix}\\right]$"
      ],
      "text/plain": [
       "Matrix([\n",
       "[                                                                                                                                                               1.0, 86.0506946134026 - 0.124092025411581*K_c, 2.41168533404044 - 146.166190513899*K_c],\n",
       "[                                                                                                                                                  19.1423278634325,  593.352883302431 - 10.8714178437542*K_c,                                       0],\n",
       "[                                                                                                                           0.443833564480849*K_c + 55.053791439682,  2.41168533404044 - 146.166190513899*K_c,                                       0],\n",
       "[                                                    (-4.82510013255414*K_c**2 + 2462.79829593342*K_c + 32620.1606160984)/(0.443833564480849*K_c + 55.053791439682),                                        0,                                       0],\n",
       "[(705.266505223547*K_c**3 - 359989.481543935*K_c**2 - 4762025.11667562*K_c + 78669.5629518882)/(-4.82510013255414*K_c**2 + 2462.79829593342*K_c + 32620.1606160984),                                        0,                                       0]])"
      ]
     },
     "execution_count": 33,
     "metadata": {},
     "output_type": "execute_result"
    }
   ],
   "source": [
    "K_c = sp.symbols('K_c')\n",
    "s = sp.symbols('s')\n",
    "p_CL = K_c * sp.Poly(G_p.num[0][0], s) + sp.Poly(G_p.den[0][0], s)\n",
    "rh_CL = routh(p_CL)\n",
    "rh_CL"
   ]
  },
  {
   "cell_type": "code",
   "execution_count": 34,
   "metadata": {},
   "outputs": [
    {
     "data": {
      "text/latex": [
       "$\\displaystyle -124.0415233221 < K_{c} \\wedge K_{c} < \\infty$"
      ],
      "text/plain": [
       "(-124.0415233221 < K_c) & (K_c < oo)"
      ]
     },
     "execution_count": 34,
     "metadata": {},
     "output_type": "execute_result"
    }
   ],
   "source": [
    "sp.solve(rh_CL[2, 0] > 0, K_c)"
   ]
  },
  {
   "cell_type": "code",
   "execution_count": 35,
   "metadata": {},
   "outputs": [
    {
     "data": {
      "text/latex": [
       "$\\displaystyle \\left(-12.9182106220819 < K_{c} \\wedge K_{c} < 523.33213536477\\right) \\vee \\left(-\\infty < K_{c} \\wedge K_{c} < -124.0415233221\\right)$"
      ],
      "text/plain": [
       "((-12.9182106220819 < K_c) & (K_c < 523.33213536477)) | ((-oo < K_c) & (K_c < -124.0415233221))"
      ]
     },
     "execution_count": 35,
     "metadata": {},
     "output_type": "execute_result"
    }
   ],
   "source": [
    "sp.solve(rh_CL[3, 0] > 0, K_c)"
   ]
  },
  {
   "cell_type": "code",
   "execution_count": 36,
   "metadata": {},
   "outputs": [
    {
     "data": {
      "text/latex": [
       "$\\displaystyle \\left(-12.9182106220819 < K_{c} \\wedge K_{c} < 0.0164996113366662\\right) \\vee \\left(-\\infty < K_{c} \\wedge K_{c} < -12.9182106220819\\right)$"
      ],
      "text/plain": [
       "((-12.9182106220819 < K_c) & (K_c < 0.0164996113366662)) | ((-oo < K_c) & (K_c < -12.9182106220819))"
      ]
     },
     "execution_count": 36,
     "metadata": {},
     "output_type": "execute_result"
    }
   ],
   "source": [
    "sp.solve(rh_CL[4, 0] > 0, K_c)"
   ]
  },
  {
   "cell_type": "code",
   "execution_count": 37,
   "metadata": {},
   "outputs": [
    {
     "data": {
      "text/latex": [
       "$\\displaystyle \\left[\\begin{matrix}1.0 & 87.6537415341902 & 1890.61732022001\\\\19.1423278634325 & 733.792148768713 & 0\\\\49.3202559725688 & 1890.61732022001 & 0\\\\-2.83247488151764 \\cdot 10^{-11} & 0 & 0\\\\1890.61732022001 & 0 & 0\\end{matrix}\\right]$"
      ],
      "text/plain": [
       "Matrix([\n",
       "[                  1.0, 87.6537415341902, 1890.61732022001],\n",
       "[     19.1423278634325, 733.792148768713,                0],\n",
       "[     49.3202559725688, 1890.61732022001,                0],\n",
       "[-2.83247488151764e-11,                0,                0],\n",
       "[     1890.61732022001,                0,                0]])"
      ]
     },
     "execution_count": 37,
     "metadata": {},
     "output_type": "execute_result"
    }
   ],
   "source": [
    "# ganho crítico (ultimate gain)\n",
    "K_u = -12.9182106220824\n",
    "T_u = ct.feedback(K_u * G_p)\n",
    "routh(sp.Poly(T_u.den[0][0], s))"
   ]
  },
  {
   "cell_type": "code",
   "execution_count": 38,
   "metadata": {},
   "outputs": [
    {
     "data": {
      "text/plain": [
       "array([-1.60740035e+01+0.j        ,  5.39568390e-14+6.19140417j,\n",
       "        5.39568390e-14-6.19140417j, -3.06832432e+00+0.j        ])"
      ]
     },
     "execution_count": 38,
     "metadata": {},
     "output_type": "execute_result"
    }
   ],
   "source": [
    "cl_poles_u = T_u.poles()\n",
    "cl_poles_u"
   ]
  },
  {
   "cell_type": "code",
   "execution_count": 39,
   "metadata": {},
   "outputs": [
    {
     "data": {
      "text/plain": [
       "1.0148239619803572"
      ]
     },
     "execution_count": 39,
     "metadata": {},
     "output_type": "execute_result"
    }
   ],
   "source": [
    "# período com ganho crítico\n",
    "P_u = 2*np.pi/np.imag(cl_poles_u[1])\n",
    "P_u"
   ]
  },
  {
   "cell_type": "markdown",
   "metadata": {},
   "source": [
    "## 4. Sintonia de PID via Ziegler-Nichols\n",
    "\n",
    "| Control | $K_c$         | $\\tau_I$          | $\\tau_D$        |\n",
    "| :-----: | :-----------: | :---------------: | :-------------: |\n",
    "| P       | $0.5 K_{u}$  | -                 | -               |\n",
    "| PI      | $0.45 K_{u}$ | $\\frac{P_u}{1.2}$ | -               |\n",
    "| PID     | $0.6 K_{u}$  | $\\frac{P_u}{2}$   | $\\frac{P_u}{8}$ |"
   ]
  },
  {
   "cell_type": "code",
   "execution_count": 40,
   "metadata": {},
   "outputs": [
    {
     "data": {
      "text/latex": [
       "$$\\frac{-0.499 s^2 - 3.933 s - 7.751}{6.437 \\times 10^{-6} s^2 + 0.5074 s}$$"
      ],
      "text/plain": [
       "TransferFunction(array([-0.49895167, -3.93301123, -7.75092637]), array([6.43667296e-06, 5.07411981e-01, 0.00000000e+00]))"
      ]
     },
     "execution_count": 40,
     "metadata": {},
     "output_type": "execute_result"
    }
   ],
   "source": [
    "K_c_zn = 0.6 * K_u\n",
    "τ_i = P_u/2\n",
    "τ_d = P_u/8\n",
    "\n",
    "N_d = 10000\n",
    "G_c_zn = K_c_zn * (1 + ct.tf([1], [τ_i, 0]) + ct.tf([τ_d, 0], [τ_d/N_d, 1]))\n",
    "G_c_zn"
   ]
  },
  {
   "cell_type": "code",
   "execution_count": 41,
   "metadata": {},
   "outputs": [
    {
     "data": {
      "text/latex": [
       "$$\\frac{0.06192 s^4 + 5.912 s^3 + 116.6 s^2 + 659.1 s + 1133}{6.437 \\times 10^{-6} s^6 + 0.5075 s^5 + 9.776 s^4 + 49.58 s^3 + 417.7 s^2 + 660.4 s + 1133}$$"
      ],
      "text/plain": [
       "TransferFunction(array([6.19159236e-02, 5.91236744e+00, 1.16649102e+02, 6.59136828e+02,\n",
       "       1.13292338e+03]), array([6.43667296e-06, 5.07535194e-01, 9.77551631e+00, 4.95793401e+01,\n",
       "       4.17723479e+02, 6.60360546e+02, 1.13292338e+03]))"
      ]
     },
     "execution_count": 41,
     "metadata": {},
     "output_type": "execute_result"
    }
   ],
   "source": [
    "# FT em malha fechada\n",
    "T_zn = ct.feedback(G_c_zn * G_p)\n",
    "T_zn"
   ]
  },
  {
   "cell_type": "code",
   "execution_count": 42,
   "metadata": {},
   "outputs": [
    {
     "data": {
      "text/plain": [
       "array([-7.88312843e+04+0.j        , -1.60929885e+01+0.j        ,\n",
       "       -7.62899583e-01+6.33780788j, -7.62899583e-01-6.33780788j,\n",
       "       -8.22722579e-01+1.65161172j, -8.22722579e-01-1.65161172j])"
      ]
     },
     "execution_count": 42,
     "metadata": {},
     "output_type": "execute_result"
    }
   ],
   "source": [
    "T_zn.poles()"
   ]
  },
  {
   "cell_type": "code",
   "execution_count": 43,
   "metadata": {},
   "outputs": [
    {
     "data": {
      "image/png": "[encoded data removed]",
      "text/plain": [
       "<Figure size 640x480 with 2 Axes>"
      ]
     },
     "metadata": {},
     "output_type": "display_data"
    }
   ],
   "source": [
    "# diagrama de Bode em MF\n",
    "M_zn, φ_zn, ω_zn = ct.bode_plot(T_zn, \n",
    "                                omega=np.linspace(0.1, 20, 201), \n",
    "                                color=cp['blue'], \n",
    "                                dB=True)"
   ]
  },
  {
   "cell_type": "code",
   "execution_count": 44,
   "metadata": {},
   "outputs": [
    {
     "data": {
      "text/latex": [
       "$$\\frac{-0.499 s^6 - 13.48 s^5 - 126 s^4 - 782.9 s^3 - 3002 s^2 - 4609 s - 18.69}{6.437 \\times 10^{-6} s^6 + 0.5075 s^5 + 9.776 s^4 + 49.58 s^3 + 417.7 s^2 + 660.4 s + 1133}$$"
      ],
      "text/plain": [
       "TransferFunction(array([-4.98951672e-01, -1.34841077e+01, -1.25973055e+02, -7.82863535e+02,\n",
       "       -3.00183947e+03, -4.60851970e+03, -1.86927955e+01]), array([6.43667296e-06, 5.07535194e-01, 9.77551631e+00, 4.95793401e+01,\n",
       "       4.17723479e+02, 6.60360546e+02, 1.13292338e+03]))"
      ]
     },
     "execution_count": 44,
     "metadata": {},
     "output_type": "execute_result"
    }
   ],
   "source": [
    "# FT entre referência e entrada de controle (torque τ_δ)\n",
    "T_rτ_δ_zn = ct.feedback(G_c_zn, G_p)\n",
    "T_rτ_δ_zn"
   ]
  },
  {
   "cell_type": "code",
   "execution_count": 45,
   "metadata": {},
   "outputs": [
    {
     "data": {
      "image/png": "[encoded data removed]",
      "text/plain": [
       "<Figure size 500x700 with 2 Axes>"
      ]
     },
     "metadata": {},
     "output_type": "display_data"
    }
   ],
   "source": [
    "# simulação do sistema em MF\n",
    "ts = np.linspace(0, 25, 1000)\n",
    "\n",
    "t, y = ct.step_response(T_zn, ts)\n",
    "t, u = ct.step_response(T_rτ_δ_zn, ts)\n",
    "\n",
    "fig, (state, control_input) = plt.subplots(\n",
    "        2, 1, figsize=(5, 7), sharex=True)\n",
    "\n",
    "state.plot(t, y,\n",
    "            color=cp['blue'], label=r'$\\phi / \\phi_r$ ')\n",
    "state.set_xlabel(r'$t$ (s)')\n",
    "state.legend()\n",
    "state.grid()\n",
    "\n",
    "control_input.plot(t[10:], u[10:], color=cp['orange'],\n",
    "                    label=r'$\\tau_\\delta/\\phi_r$ (N m)')\n",
    "# control_input.set_ylabel(r'(N m)')\n",
    "control_input.set_xlabel(r'$t$ (s)')\n",
    "control_input.legend()\n",
    "control_input.grid()"
   ]
  }
 ],
 "metadata": {
  "kernelspec": {
   "display_name": "P39",
   "language": "python",
   "name": "python3"
  },
  "language_info": {
   "codemirror_mode": {
    "name": "ipython",
    "version": 3
   },
   "file_extension": ".py",
   "mimetype": "text/x-python",
   "name": "python",
   "nbconvert_exporter": "python",
   "pygments_lexer": "ipython3",
   "version": "3.9.18"
  }
 },
 "nbformat": 4,
 "nbformat_minor": 2
}
