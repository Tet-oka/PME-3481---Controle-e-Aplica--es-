{
 "cells": [
  {
   "cell_type": "markdown",
   "metadata": {},
   "source": [
    "## Pêndulo invertido\n",
    "\n",
    "Baseado no exemplo 5D do livro:\n",
    "\n",
    "Friedland, B. (2012). *Control System Design: An Introduction to State-Space Methods.* Estados Unidos: Dover Publications.\n",
    "\n",
    "![PENDULO_INV](db_pend_inv.png)"
   ]
  },
  {
   "cell_type": "code",
   "execution_count": 1,
   "metadata": {},
   "outputs": [],
   "source": [
    "# !pip install sympy\n",
    "# !pip install control\n",
    "# !pip install tbcontrol\n",
    "# !pip install ipywidgets"
   ]
  },
  {
   "cell_type": "code",
   "execution_count": 1,
   "metadata": {},
   "outputs": [],
   "source": [
    "import numpy as np\n",
    "import sympy as sp\n",
    "import matplotlib.pyplot as plt\n",
    "import control as ct\n",
    "\n",
    "import ipywidgets as widgets\n",
    "from ipywidgets import interactive"
   ]
  },
  {
   "cell_type": "code",
   "execution_count": 2,
   "metadata": {},
   "outputs": [],
   "source": [
    "# Paleta de cores\n",
    "cp = {\n",
    "    'red': (1.0, 0.349, 0.369, 1.0),\n",
    "    'green': (0.541, 0.788, 0.149, 1.0),\n",
    "    'blue': (0.098, 0.510, 0.769, 1.0),\n",
    "    'lred': (1.0, 0.588, 0.6, 1.0),\n",
    "    'lgreen': (0.722, 0.894, 0.443, 1.0),\n",
    "    'lblue': (0.369, 0.706, 0.918, 1.0),\n",
    "    'orange': (1.0, 0.506, 0.227, 1.0),\n",
    "    'yellow': (1.0, 0.792, 0.227, 1.0),\n",
    "    'pink': (1.0, 0.349, 0.611, 1.0),\n",
    "    'purple': (0.416, 0.298, 0.576, 1.0),\n",
    "    'turquoise': (0.098, 0.761, 0.769, 1.0),\n",
    "    'brown': (0.576, 0.380, 0.298, 1.0)\n",
    "}"
   ]
  },
  {
   "cell_type": "markdown",
   "metadata": {},
   "source": [
    "### Sistema na forma de espaço de estados"
   ]
  },
  {
   "cell_type": "code",
   "execution_count": 3,
   "metadata": {},
   "outputs": [],
   "source": [
    "ω_p, ω_c = sp.symbols('ω_p ω_c')"
   ]
  },
  {
   "cell_type": "code",
   "execution_count": 5,
   "metadata": {},
   "outputs": [
    {
     "name": "stdout",
     "output_type": "stream",
     "text": [
      "Matrix([[0], [1], [ω_c]])\n"
     ]
    },
    {
     "ename": "",
     "evalue": "",
     "output_type": "error",
     "traceback": [
      "\u001b[1;31mThe Kernel crashed while executing code in the current cell or a previous cell. \n",
      "\u001b[1;31mPlease review the code in the cell(s) to identify a possible cause of the failure. \n",
      "\u001b[1;31mClick <a href='https://aka.ms/vscodeJupyterKernelCrash'>here</a> for more info. \n",
      "\u001b[1;31mView Jupyter <a href='command:jupyter.viewOutput'>log</a> for further details."
     ]
    }
   ],
   "source": [
    "A = sp.Matrix([[0, 1, 0],\n",
    "                [ω_p**2, 0, -1],\n",
    "                [0, 0, 0]])\n",
    "\n",
    "B = sp.Matrix([[0], [1], [ω_c]])\n",
    "\n",
    "C = sp.Matrix([[1, 0, 0]])\n",
    "\n",
    "D = sp.Matrix([[0]])\n",
    "\n",
    "E = sp.Matrix([[0], [1], [0]])\n",
    "\n",
    "print(B)"
   ]
  },
  {
   "cell_type": "code",
   "execution_count": 6,
   "metadata": {},
   "outputs": [],
   "source": [
    "An = sp.lambdify((ω_p), A)\n",
    "Bn = sp.lambdify((ω_c), B)"
   ]
  },
  {
   "cell_type": "markdown",
   "metadata": {},
   "source": [
    "### Transformação de variáveis que diagonaliza A"
   ]
  },
  {
   "cell_type": "code",
   "execution_count": 7,
   "metadata": {},
   "outputs": [],
   "source": [
    "V, Λ = A.diagonalize()\n",
    "T = V.inv()"
   ]
  },
  {
   "cell_type": "code",
   "execution_count": 8,
   "metadata": {},
   "outputs": [
    {
     "data": {
      "text/latex": [
       "$\\displaystyle \\left[\\begin{matrix}0 & 0 & 0\\\\0 & - ω_{p} & 0\\\\0 & 0 & ω_{p}\\end{matrix}\\right]$"
      ],
      "text/plain": [
       "Matrix([\n",
       "[0,    0,   0],\n",
       "[0, -ω_p,   0],\n",
       "[0,    0, ω_p]])"
      ]
     },
     "execution_count": 8,
     "metadata": {},
     "output_type": "execute_result"
    }
   ],
   "source": [
    "Λ"
   ]
  },
  {
   "cell_type": "code",
   "execution_count": 9,
   "metadata": {},
   "outputs": [
    {
     "data": {
      "text/latex": [
       "$\\displaystyle \\left[\\begin{matrix}\\frac{1}{ω_{p}^{2}} & - \\frac{1}{ω_{p}} & \\frac{1}{ω_{p}}\\\\0 & 1 & 1\\\\1 & 0 & 0\\end{matrix}\\right]$"
      ],
      "text/plain": [
       "Matrix([\n",
       "[ω_p**(-2), -1/ω_p, 1/ω_p],\n",
       "[        0,      1,     1],\n",
       "[        1,      0,     0]])"
      ]
     },
     "execution_count": 9,
     "metadata": {},
     "output_type": "execute_result"
    }
   ],
   "source": [
    "V"
   ]
  },
  {
   "cell_type": "code",
   "execution_count": 10,
   "metadata": {},
   "outputs": [
    {
     "data": {
      "text/latex": [
       "$\\displaystyle \\left[\\begin{matrix}0 & 0 & 1\\\\- \\frac{ω_{p}}{2} & \\frac{1}{2} & \\frac{1}{2 ω_{p}}\\\\\\frac{ω_{p}}{2} & \\frac{1}{2} & - \\frac{1}{2 ω_{p}}\\end{matrix}\\right]$"
      ],
      "text/plain": [
       "Matrix([\n",
       "[     0,   0,          1],\n",
       "[-ω_p/2, 1/2,  1/(2*ω_p)],\n",
       "[ ω_p/2, 1/2, -1/(2*ω_p)]])"
      ]
     },
     "execution_count": 10,
     "metadata": {},
     "output_type": "execute_result"
    }
   ],
   "source": [
    "T"
   ]
  },
  {
   "cell_type": "code",
   "execution_count": 11,
   "metadata": {},
   "outputs": [
    {
     "data": {
      "text/latex": [
       "$\\displaystyle \\left[\\begin{matrix}0 & 0 & 0\\\\0 & 0 & 0\\\\0 & 0 & 0\\end{matrix}\\right]$"
      ],
      "text/plain": [
       "Matrix([\n",
       "[0, 0, 0],\n",
       "[0, 0, 0],\n",
       "[0, 0, 0]])"
      ]
     },
     "execution_count": 11,
     "metadata": {},
     "output_type": "execute_result"
    }
   ],
   "source": [
    "Λ - T*A*T.inv()"
   ]
  },
  {
   "cell_type": "code",
   "execution_count": 12,
   "metadata": {},
   "outputs": [
    {
     "data": {
      "text/latex": [
       "$\\displaystyle \\left[\\begin{matrix}ω_{c}\\\\\\frac{ω_{c}}{2 ω_{p}} + \\frac{1}{2}\\\\- \\frac{ω_{c}}{2 ω_{p}} + \\frac{1}{2}\\end{matrix}\\right]$"
      ],
      "text/plain": [
       "Matrix([\n",
       "[               ω_c],\n",
       "[ ω_c/(2*ω_p) + 1/2],\n",
       "[-ω_c/(2*ω_p) + 1/2]])"
      ]
     },
     "execution_count": 12,
     "metadata": {},
     "output_type": "execute_result"
    }
   ],
   "source": [
    "B_ = T*B\n",
    "B_"
   ]
  },
  {
   "cell_type": "code",
   "execution_count": 13,
   "metadata": {},
   "outputs": [
    {
     "data": {
      "text/latex": [
       "$\\displaystyle \\left[\\begin{matrix}\\frac{1}{ω_{p}^{2}} & - \\frac{1}{ω_{p}} & \\frac{1}{ω_{p}}\\end{matrix}\\right]$"
      ],
      "text/plain": [
       "Matrix([[ω_p**(-2), -1/ω_p, 1/ω_p]])"
      ]
     },
     "execution_count": 13,
     "metadata": {},
     "output_type": "execute_result"
    }
   ],
   "source": [
    "C_ = C*T.inv()\n",
    "C_"
   ]
  },
  {
   "cell_type": "markdown",
   "metadata": {},
   "source": [
    "### Testes de Controlabilidade e Observabilidade\n",
    "\n",
    "##### Forma de espaço de estados original $(A, B, C)$ "
   ]
  },
  {
   "cell_type": "code",
   "execution_count": 14,
   "metadata": {},
   "outputs": [
    {
     "data": {
      "text/latex": [
       "$\\displaystyle \\left[\\begin{matrix}0 & 1 & - ω_{c}\\\\1 & - ω_{c} & ω_{p}^{2}\\\\ω_{c} & 0 & 0\\end{matrix}\\right]$"
      ],
      "text/plain": [
       "Matrix([\n",
       "[  0,    1,   -ω_c],\n",
       "[  1, -ω_c, ω_p**2],\n",
       "[ω_c,    0,      0]])"
      ]
     },
     "execution_count": 14,
     "metadata": {},
     "output_type": "execute_result"
    }
   ],
   "source": [
    "Q = sp.Matrix([[B, A*B, A*A*B]])\n",
    "Q"
   ]
  },
  {
   "cell_type": "code",
   "execution_count": 15,
   "metadata": {},
   "outputs": [
    {
     "data": {
      "text/latex": [
       "$\\displaystyle ω_{c} \\left(- ω_{c}^{2} + ω_{p}^{2}\\right)$"
      ],
      "text/plain": [
       "ω_c*(-ω_c**2 + ω_p**2)"
      ]
     },
     "execution_count": 15,
     "metadata": {},
     "output_type": "execute_result"
    }
   ],
   "source": [
    "Q.det().simplify()"
   ]
  },
  {
   "cell_type": "markdown",
   "metadata": {},
   "source": [
    "A matriz $Q$ se torna singular e, consequentemente, o sistema se torna **não-controlável** se, e somente se: \n",
    "* $\\omega_c = 0$, ou \n",
    "* $\\omega_c = - \\omega_p$, ou\n",
    "* $\\omega_c = + \\omega_p$."
   ]
  },
  {
   "cell_type": "code",
   "execution_count": 16,
   "metadata": {},
   "outputs": [
    {
     "data": {
      "text/latex": [
       "$\\displaystyle \\left[\\begin{matrix}1 & 0 & ω_{p}^{2}\\\\0 & 1 & 0\\\\0 & 0 & -1\\end{matrix}\\right]$"
      ],
      "text/plain": [
       "Matrix([\n",
       "[1, 0, ω_p**2],\n",
       "[0, 1,      0],\n",
       "[0, 0,     -1]])"
      ]
     },
     "execution_count": 16,
     "metadata": {},
     "output_type": "execute_result"
    }
   ],
   "source": [
    "N = sp.Matrix([[C.T, A.T*C.T, A.T*A.T*C.T]])\n",
    "N"
   ]
  },
  {
   "cell_type": "code",
   "execution_count": 17,
   "metadata": {},
   "outputs": [
    {
     "data": {
      "text/latex": [
       "$\\displaystyle -1$"
      ],
      "text/plain": [
       "-1"
      ]
     },
     "execution_count": 17,
     "metadata": {},
     "output_type": "execute_result"
    }
   ],
   "source": [
    "N.det().simplify()"
   ]
  },
  {
   "cell_type": "markdown",
   "metadata": {},
   "source": [
    "A matriz $N$ não será singular em nenhum cenário e, portanto, o sistema é **observável**."
   ]
  },
  {
   "cell_type": "markdown",
   "metadata": {},
   "source": [
    "Altenativamente, pode-se usar as funções `control.ctrb` e `control.obsv` para construir as matrizes teste de controlabilidade e observabilidade."
   ]
  },
  {
   "cell_type": "code",
   "execution_count": 18,
   "metadata": {},
   "outputs": [
    {
     "data": {
      "text/plain": [
       "array([[ 0.,  1.,  1.],\n",
       "       [ 1.,  1.,  1.],\n",
       "       [-1.,  0.,  0.]])"
      ]
     },
     "execution_count": 18,
     "metadata": {},
     "output_type": "execute_result"
    }
   ],
   "source": [
    "# matriz de controlabilidade \n",
    "ct.ctrb(An(1), Bn(-1))"
   ]
  },
  {
   "cell_type": "code",
   "execution_count": 19,
   "metadata": {},
   "outputs": [
    {
     "data": {
      "text/plain": [
       "2"
      ]
     },
     "execution_count": 19,
     "metadata": {},
     "output_type": "execute_result"
    }
   ],
   "source": [
    "# posto da matriz de controlabilidade\n",
    "np.linalg.matrix_rank(ct.ctrb(An(1), Bn(-1)))"
   ]
  },
  {
   "cell_type": "code",
   "execution_count": 20,
   "metadata": {},
   "outputs": [
    {
     "data": {
      "text/plain": [
       "array([[ 1.,  0.,  0.],\n",
       "       [ 0.,  1.,  0.],\n",
       "       [ 1.,  0., -1.]])"
      ]
     },
     "execution_count": 20,
     "metadata": {},
     "output_type": "execute_result"
    }
   ],
   "source": [
    "# matriz de observabilidade\n",
    "ct.obsv(An(1), C)"
   ]
  },
  {
   "cell_type": "markdown",
   "metadata": {},
   "source": [
    "##### Forma de espaço de estados após transformação de variáveis $(\\Lambda, \\bar B, \\bar C)$ "
   ]
  },
  {
   "cell_type": "code",
   "execution_count": 21,
   "metadata": {},
   "outputs": [
    {
     "data": {
      "text/latex": [
       "$\\displaystyle \\left[\\begin{matrix}ω_{c} & 0 & 0\\\\\\frac{ω_{c}}{2 ω_{p}} + \\frac{1}{2} & - ω_{p} \\left(\\frac{ω_{c}}{2 ω_{p}} + \\frac{1}{2}\\right) & ω_{p}^{2} \\left(\\frac{ω_{c}}{2 ω_{p}} + \\frac{1}{2}\\right)\\\\- \\frac{ω_{c}}{2 ω_{p}} + \\frac{1}{2} & ω_{p} \\left(- \\frac{ω_{c}}{2 ω_{p}} + \\frac{1}{2}\\right) & ω_{p}^{2} \\left(- \\frac{ω_{c}}{2 ω_{p}} + \\frac{1}{2}\\right)\\end{matrix}\\right]$"
      ],
      "text/plain": [
       "Matrix([\n",
       "[               ω_c,                        0,                           0],\n",
       "[ ω_c/(2*ω_p) + 1/2, -ω_p*(ω_c/(2*ω_p) + 1/2),  ω_p**2*(ω_c/(2*ω_p) + 1/2)],\n",
       "[-ω_c/(2*ω_p) + 1/2, ω_p*(-ω_c/(2*ω_p) + 1/2), ω_p**2*(-ω_c/(2*ω_p) + 1/2)]])"
      ]
     },
     "execution_count": 21,
     "metadata": {},
     "output_type": "execute_result"
    }
   ],
   "source": [
    "Q_ = sp.Matrix([[B_, Λ*B_, Λ*Λ*B_]])\n",
    "Q_"
   ]
  },
  {
   "cell_type": "markdown",
   "metadata": {},
   "source": [
    "Na forma transformada fica evidente que:\n",
    "* $\\omega_c = 0$ torna a primeira linha de $\\bar Q$ identicamente nula, \n",
    "* $\\omega_c = - \\omega_p$ torna a segunda linha de $\\bar Q$ identicamente nula,\n",
    "* $\\omega_c = + \\omega_p$ torna a terceira linha de $\\bar Q$ identicamente nula;\n",
    "evidenciando os três possíveis valores de  $\\omega_c$ que tornam o sistema não-controlável."
   ]
  },
  {
   "cell_type": "markdown",
   "metadata": {},
   "source": [
    "### Síntese de um regulador por alocação de polos"
   ]
  },
  {
   "cell_type": "code",
   "execution_count": 22,
   "metadata": {},
   "outputs": [
    {
     "data": {
      "text/latex": [
       "$\\displaystyle \\operatorname{PurePoly}{\\left( \\lambda^{3} -  ω_{p}^{2} \\lambda, \\lambda, domain=\\mathbb{Z}\\left[ω_{p}\\right] \\right)}$"
      ],
      "text/plain": [
       "PurePoly(lambda**3 - ω_p**2*lambda, lambda, domain='ZZ[ω_p]')"
      ]
     },
     "execution_count": 22,
     "metadata": {},
     "output_type": "execute_result"
    }
   ],
   "source": [
    "# Polinômio característico do sistema não-controlado (MA)\n",
    "p = A.charpoly()\n",
    "p"
   ]
  },
  {
   "cell_type": "code",
   "execution_count": 23,
   "metadata": {},
   "outputs": [
    {
     "data": {
      "text/plain": [
       "[1, 0, -ω_p**2, 0]"
      ]
     },
     "execution_count": 23,
     "metadata": {},
     "output_type": "execute_result"
    }
   ],
   "source": [
    "# Coeficientes do polinômio característico do sistema não-controlado (MA)\n",
    "a = p.all_coeffs()\n",
    "a"
   ]
  },
  {
   "cell_type": "code",
   "execution_count": 24,
   "metadata": {},
   "outputs": [
    {
     "data": {
      "text/latex": [
       "$\\displaystyle \\left[\\begin{matrix}1 & 0 & - ω_{p}^{2}\\\\0 & 1 & 0\\\\0 & 0 & 1\\end{matrix}\\right]$"
      ],
      "text/plain": [
       "Matrix([\n",
       "[1, 0, -ω_p**2],\n",
       "[0, 1,       0],\n",
       "[0, 0,       1]])"
      ]
     },
     "execution_count": 24,
     "metadata": {},
     "output_type": "execute_result"
    }
   ],
   "source": [
    "# Matriz Toeplitz triangular W \n",
    "W = sp.Matrix([[1, a[1], a[2]],\n",
    "               [0, 1, a[1]],\n",
    "               [0, 0, 1]])\n",
    "W"
   ]
  },
  {
   "cell_type": "markdown",
   "metadata": {},
   "source": [
    "Suponha que se deseje alocar os polos de malha fechada nas posições:\n",
    "* $s = - r$, \n",
    "* $s = - ζ ω_n + j ω_n \\sqrt{1-ζ^2}$,\n",
    "* $s = - ζ ω_n - j ω_n \\sqrt{1-ζ^2}$."
   ]
  },
  {
   "cell_type": "code",
   "execution_count": 25,
   "metadata": {},
   "outputs": [
    {
     "data": {
      "text/plain": [
       "[1, r + 2*ζ*ω_n, 2*r*ζ*ω_n + ω_n**2, r*ω_n**2]"
      ]
     },
     "execution_count": 25,
     "metadata": {},
     "output_type": "execute_result"
    }
   ],
   "source": [
    "# Polos desejados para alocação em MF \n",
    "λ, ζ, ω_n, r = sp.symbols('λ ζ ω_n r')\n",
    "p_ = sp.PurePoly((λ + r) * ((λ + ζ*ω_n)**2 + ω_n**2 * (1 - ζ**2)), λ)\n",
    "a_ = p_.all_coeffs()\n",
    "a_"
   ]
  },
  {
   "cell_type": "code",
   "execution_count": 26,
   "metadata": {},
   "outputs": [
    {
     "data": {
      "text/latex": [
       "$\\displaystyle \\left[\\begin{matrix}- \\frac{r ω_{c} ω_{n}^{2}}{ω_{c}^{2} - ω_{p}^{2}} - \\frac{ω_{c} ω_{p}^{2} \\left(r + 2 ζ ω_{n}\\right)}{ω_{c}^{2} - ω_{p}^{2}} - \\frac{ω_{p}^{2} \\cdot \\left(2 r ζ ω_{n} + ω_{n}^{2} + ω_{p}^{2}\\right)}{ω_{c}^{2} - ω_{p}^{2}}\\\\- \\frac{r ω_{n}^{2}}{ω_{c}^{2} - ω_{p}^{2}} - \\frac{ω_{c} \\left(2 r ζ ω_{n} + ω_{n}^{2} + ω_{p}^{2}\\right)}{ω_{c}^{2} - ω_{p}^{2}} - \\frac{ω_{p}^{2} \\left(r + 2 ζ ω_{n}\\right)}{ω_{c}^{2} - ω_{p}^{2}}\\\\\\frac{r ω_{n}^{2}}{ω_{c}^{3} - ω_{c} ω_{p}^{2}} + \\frac{ω_{c} \\left(r + 2 ζ ω_{n}\\right)}{ω_{c}^{2} - ω_{p}^{2}} + \\frac{ω_{c} \\left(2 r ζ ω_{n} + ω_{n}^{2} + ω_{p}^{2}\\right)}{ω_{c}^{3} - ω_{c} ω_{p}^{2}}\\end{matrix}\\right]$"
      ],
      "text/plain": [
       "Matrix([\n",
       "[-r*ω_c*ω_n**2/(ω_c**2 - ω_p**2) - ω_c*ω_p**2*(r + 2*ζ*ω_n)/(ω_c**2 - ω_p**2) - ω_p**2*(2*r*ζ*ω_n + ω_n**2 + ω_p**2)/(ω_c**2 - ω_p**2)],\n",
       "[           -r*ω_n**2/(ω_c**2 - ω_p**2) - ω_c*(2*r*ζ*ω_n + ω_n**2 + ω_p**2)/(ω_c**2 - ω_p**2) - ω_p**2*(r + 2*ζ*ω_n)/(ω_c**2 - ω_p**2)],\n",
       "[       r*ω_n**2/(ω_c**3 - ω_c*ω_p**2) + ω_c*(r + 2*ζ*ω_n)/(ω_c**2 - ω_p**2) + ω_c*(2*r*ζ*ω_n + ω_n**2 + ω_p**2)/(ω_c**3 - ω_c*ω_p**2)]])"
      ]
     },
     "execution_count": 26,
     "metadata": {},
     "output_type": "execute_result"
    }
   ],
   "source": [
    "# Cálculo do ganho pela fórmula de Bass-Gura\n",
    "k = ((Q*W).inv()).T * (sp.Matrix(a_[1:]) - sp.Matrix(a[1:]))\n",
    "kn = sp.lambdify((ω_p, ω_c, ζ, ω_n, r), k)\n",
    "k"
   ]
  },
  {
   "cell_type": "code",
   "execution_count": 27,
   "metadata": {},
   "outputs": [
    {
     "data": {
      "text/plain": [
       "array([[-3.414],\n",
       "       [-3.414],\n",
       "       [ 2.914]])"
      ]
     },
     "execution_count": 27,
     "metadata": {},
     "output_type": "execute_result"
    }
   ],
   "source": [
    "# Exemplo de valor numérico para a matriz de ganho k\n",
    "kn(1, 2, 0.707, 1, 1)"
   ]
  },
  {
   "cell_type": "markdown",
   "metadata": {},
   "source": [
    "Para o cálculo numérico, poderíamos ter utilizado a função `control.place` que também é válida para a resolução numérica de um problema MIMO. "
   ]
  },
  {
   "cell_type": "code",
   "execution_count": 38,
   "metadata": {},
   "outputs": [
    {
     "data": {
      "text/plain": [
       "array([[-3.413698, -3.413698,  2.913849]])"
      ]
     },
     "execution_count": 38,
     "metadata": {},
     "output_type": "execute_result"
    }
   ],
   "source": [
    "ct.place(An(1), Bn(2), [-0.707+0.707j, -0.707-0.707j, -1])"
   ]
  },
  {
   "cell_type": "code",
   "execution_count": 52,
   "metadata": {},
   "outputs": [],
   "source": [
    "# exemplo MIMO - matriz B (3x2)\n",
    "# ct.place(An(1), np.random.rand(3, 2), [-0.707+0.707j, -0.707-0.707j, -1])"
   ]
  },
  {
   "cell_type": "markdown",
   "metadata": {},
   "source": [
    "Matriz de estados em malha fechada"
   ]
  },
  {
   "cell_type": "code",
   "execution_count": 28,
   "metadata": {},
   "outputs": [
    {
     "data": {
      "text/latex": [
       "$\\displaystyle \\left[\\begin{matrix}0 & 1 & 0\\\\\\frac{r ω_{c} ω_{n}^{2}}{ω_{c}^{2} - ω_{p}^{2}} + \\frac{ω_{c} ω_{p}^{2} \\left(r + 2 ζ ω_{n}\\right)}{ω_{c}^{2} - ω_{p}^{2}} + ω_{p}^{2} + \\frac{ω_{p}^{2} \\cdot \\left(2 r ζ ω_{n} + ω_{n}^{2} + ω_{p}^{2}\\right)}{ω_{c}^{2} - ω_{p}^{2}} & \\frac{r ω_{n}^{2}}{ω_{c}^{2} - ω_{p}^{2}} + \\frac{ω_{c} \\left(2 r ζ ω_{n} + ω_{n}^{2} + ω_{p}^{2}\\right)}{ω_{c}^{2} - ω_{p}^{2}} + \\frac{ω_{p}^{2} \\left(r + 2 ζ ω_{n}\\right)}{ω_{c}^{2} - ω_{p}^{2}} & - \\frac{r ω_{n}^{2}}{ω_{c}^{3} - ω_{c} ω_{p}^{2}} - \\frac{ω_{c} \\left(r + 2 ζ ω_{n}\\right)}{ω_{c}^{2} - ω_{p}^{2}} - \\frac{ω_{c} \\left(2 r ζ ω_{n} + ω_{n}^{2} + ω_{p}^{2}\\right)}{ω_{c}^{3} - ω_{c} ω_{p}^{2}} - 1\\\\- ω_{c} \\left(- \\frac{r ω_{c} ω_{n}^{2}}{ω_{c}^{2} - ω_{p}^{2}} - \\frac{ω_{c} ω_{p}^{2} \\left(r + 2 ζ ω_{n}\\right)}{ω_{c}^{2} - ω_{p}^{2}} - \\frac{ω_{p}^{2} \\cdot \\left(2 r ζ ω_{n} + ω_{n}^{2} + ω_{p}^{2}\\right)}{ω_{c}^{2} - ω_{p}^{2}}\\right) & - ω_{c} \\left(- \\frac{r ω_{n}^{2}}{ω_{c}^{2} - ω_{p}^{2}} - \\frac{ω_{c} \\left(2 r ζ ω_{n} + ω_{n}^{2} + ω_{p}^{2}\\right)}{ω_{c}^{2} - ω_{p}^{2}} - \\frac{ω_{p}^{2} \\left(r + 2 ζ ω_{n}\\right)}{ω_{c}^{2} - ω_{p}^{2}}\\right) & - ω_{c} \\left(\\frac{r ω_{n}^{2}}{ω_{c}^{3} - ω_{c} ω_{p}^{2}} + \\frac{ω_{c} \\left(r + 2 ζ ω_{n}\\right)}{ω_{c}^{2} - ω_{p}^{2}} + \\frac{ω_{c} \\left(2 r ζ ω_{n} + ω_{n}^{2} + ω_{p}^{2}\\right)}{ω_{c}^{3} - ω_{c} ω_{p}^{2}}\\right)\\end{matrix}\\right]$"
      ],
      "text/plain": [
       "Matrix([\n",
       "[                                                                                                                                            0,                                                                                                                                 1,                                                                                                                                     0],\n",
       "[r*ω_c*ω_n**2/(ω_c**2 - ω_p**2) + ω_c*ω_p**2*(r + 2*ζ*ω_n)/(ω_c**2 - ω_p**2) + ω_p**2 + ω_p**2*(2*r*ζ*ω_n + ω_n**2 + ω_p**2)/(ω_c**2 - ω_p**2),         r*ω_n**2/(ω_c**2 - ω_p**2) + ω_c*(2*r*ζ*ω_n + ω_n**2 + ω_p**2)/(ω_c**2 - ω_p**2) + ω_p**2*(r + 2*ζ*ω_n)/(ω_c**2 - ω_p**2),   -r*ω_n**2/(ω_c**3 - ω_c*ω_p**2) - ω_c*(r + 2*ζ*ω_n)/(ω_c**2 - ω_p**2) - ω_c*(2*r*ζ*ω_n + ω_n**2 + ω_p**2)/(ω_c**3 - ω_c*ω_p**2) - 1],\n",
       "[ -ω_c*(-r*ω_c*ω_n**2/(ω_c**2 - ω_p**2) - ω_c*ω_p**2*(r + 2*ζ*ω_n)/(ω_c**2 - ω_p**2) - ω_p**2*(2*r*ζ*ω_n + ω_n**2 + ω_p**2)/(ω_c**2 - ω_p**2)), -ω_c*(-r*ω_n**2/(ω_c**2 - ω_p**2) - ω_c*(2*r*ζ*ω_n + ω_n**2 + ω_p**2)/(ω_c**2 - ω_p**2) - ω_p**2*(r + 2*ζ*ω_n)/(ω_c**2 - ω_p**2)), -ω_c*(r*ω_n**2/(ω_c**3 - ω_c*ω_p**2) + ω_c*(r + 2*ζ*ω_n)/(ω_c**2 - ω_p**2) + ω_c*(2*r*ζ*ω_n + ω_n**2 + ω_p**2)/(ω_c**3 - ω_c*ω_p**2))]])"
      ]
     },
     "execution_count": 28,
     "metadata": {},
     "output_type": "execute_result"
    }
   ],
   "source": [
    "# Matrix de estados em MF\n",
    "A_c = A - B*k.T\n",
    "A_cn = sp.lambdify((ω_p, ω_c, ζ, ω_n, r), A_c)\n",
    "A_c"
   ]
  },
  {
   "cell_type": "code",
   "execution_count": 29,
   "metadata": {},
   "outputs": [
    {
     "data": {
      "text/plain": [
       "(array([-1.   +0.j        , -0.707+0.70721355j, -0.707-0.70721355j]),\n",
       " array([[ 7.07106781e-01+0.j        , -2.90795535e-01+0.49630018j,\n",
       "         -2.90795535e-01-0.49630018j],\n",
       "        [-7.07106781e-01+0.j        , -1.45397768e-01-0.55653877j,\n",
       "         -1.45397768e-01+0.55653877j],\n",
       "        [-1.03963416e-14+0.j        , -5.81591071e-01+0.j        ,\n",
       "         -5.81591071e-01-0.j        ]]))"
      ]
     },
     "execution_count": 29,
     "metadata": {},
     "output_type": "execute_result"
    }
   ],
   "source": [
    "np.linalg.eig(A_cn(1, 2, 0.707, 1, 1))"
   ]
  },
  {
   "cell_type": "code",
   "execution_count": 30,
   "metadata": {},
   "outputs": [
    {
     "data": {
      "text/latex": [
       "$\\displaystyle \\operatorname{PurePoly}{\\left( \\lambda^{3} + \\left(r + 2 ζ ω_{n}\\right) \\lambda^{2} + \\left(2 r ζ ω_{n} + ω_{n}^{2}\\right) \\lambda + r ω_{n}^{2}, \\lambda, domain=\\mathbb{Z}\\left[r, ζ, ω_{n}\\right] \\right)}$"
      ],
      "text/plain": [
       "PurePoly(lambda**3 + (r + 2*ζ*ω_n)*lambda**2 + (2*r*ζ*ω_n + ω_n**2)*lambda + r*ω_n**2, lambda, domain='ZZ[r,ζ,ω_n]')"
      ]
     },
     "execution_count": 30,
     "metadata": {},
     "output_type": "execute_result"
    }
   ],
   "source": [
    "# Poliômio cacterístico do sistema em MF\n",
    "(A_c).charpoly()"
   ]
  },
  {
   "cell_type": "code",
   "execution_count": 31,
   "metadata": {},
   "outputs": [
    {
     "data": {
      "text/latex": [
       "$\\displaystyle \\operatorname{PurePoly}{\\left( λ^{3} + \\left(r + 2 ζ ω_{n}\\right) λ^{2} + \\left(2 r ζ ω_{n} + ω_{n}^{2}\\right) λ + r ω_{n}^{2}, λ, domain=\\mathbb{Z}\\left[r, ζ, ω_{n}\\right] \\right)}$"
      ],
      "text/plain": [
       "PurePoly(λ**3 + (r + 2*ζ*ω_n)*λ**2 + (2*r*ζ*ω_n + ω_n**2)*λ + r*ω_n**2, λ, domain='ZZ[r,ζ,ω_n]')"
      ]
     },
     "execution_count": 31,
     "metadata": {},
     "output_type": "execute_result"
    }
   ],
   "source": [
    "p_"
   ]
  },
  {
   "cell_type": "markdown",
   "metadata": {},
   "source": [
    "### Simulação do sistema controlado"
   ]
  },
  {
   "cell_type": "code",
   "execution_count": 32,
   "metadata": {},
   "outputs": [],
   "source": [
    "def inv_pend_PP_sim(ω_p, ω_c, ζ, ω_n, r):\n",
    "    inv_pend_MF = ct.ss(A_cn(ω_p, ω_c, ζ, ω_n, r), E,\n",
    "                         -kn(ω_p, ω_c, ζ, ω_n, r).T, D)\n",
    "    ts = np.linspace(0, 20, 1001)\n",
    "    w = np.linspace(0.1, 0.1, 1001)\n",
    "    x0 = [0.5, 0.0, 0.0]\n",
    "    t, y, x = ct.forced_response(inv_pend_MF, U=0, T=ts, X0=x0, return_x=True)\n",
    "    return (t, y, x)\n",
    "    "
   ]
  },
  {
   "cell_type": "code",
   "execution_count": 33,
   "metadata": {},
   "outputs": [
    {
     "data": {
      "application/vnd.jupyter.widget-view+json": {
       "model_id": "ea9c6f37f2144fd1943aa7cbb343a137",
       "version_major": 2,
       "version_minor": 0
      },
      "text/plain": [
       "interactive(children=(FloatSlider(value=-2.0, description='ω_c:', max=5.0, min=-5.0, step=0.01), FloatSlider(v…"
      ]
     },
     "execution_count": 33,
     "metadata": {},
     "output_type": "execute_result"
    }
   ],
   "source": [
    "def update_plot_sim(ω_c, ζ, ω_n, r):\n",
    "    t, u, x = inv_pend_PP_sim(1, ω_c, ζ, ω_n, r)\n",
    "    fig, (state, control_input) = plt.subplots(\n",
    "        2, 1, figsize=(5, 7), sharex=True)\n",
    "    \n",
    "    state.plot(t, x[0, :], color=cp['red'], label=r'$\\theta$')\n",
    "    state.plot(t, x[1, :], color=cp['blue'], label=r'$\\dot \\theta$')\n",
    "    # state.plot(t, x[:, 2], color='black', label=r'$x_3$')\n",
    "    state.set_ylabel(r'$x$')\n",
    "    state.set_xlabel(r'$ω_p t$')\n",
    "    state.legend()\n",
    "\n",
    "    control_input.plot(t, u, color=cp['orange'], label=r'$u$')\n",
    "    control_input.set_ylabel(r'$u$')\n",
    "    control_input.set_xlabel(r'$ω_p t$')\n",
    "    control_input.legend()\n",
    "\n",
    "\n",
    "# Create sliders\n",
    "ω_c_slider = widgets.FloatSlider(\n",
    "    value=-2, min=-5.0, max=5.0, step=0.01, description='ω_c:')\n",
    "ζ_slider = widgets.FloatSlider(\n",
    "    value=0.71, min=0, max=1, step=0.01, description='ζ:')\n",
    "ω_n_slider = widgets.FloatSlider(\n",
    "    value=1, min=0, max=5.0, step=0.01, description='ω_n:')\n",
    "r_slider = widgets.FloatSlider(\n",
    "    value=1.0, min=0.0, max=5.0, step=0.01, description='r:')\n",
    "\n",
    "# Create the interactive plot\n",
    "interactive_plot_sim = interactive(\n",
    "    update_plot_sim, ω_c=ω_c_slider, ζ=ζ_slider, ω_n=ω_n_slider, r=r_slider)\n",
    "output_sim = interactive_plot_sim.children[-1]\n",
    "output_sim.layout.height = '600px'\n",
    "interactive_plot_sim"
   ]
  },
  {
   "cell_type": "markdown",
   "metadata": {},
   "source": [
    "### Resposta em frequência do sistema em malha fechada (via diagrama de Bode)"
   ]
  },
  {
   "cell_type": "code",
   "execution_count": 34,
   "metadata": {},
   "outputs": [
    {
     "data": {
      "application/vnd.jupyter.widget-view+json": {
       "model_id": "6645a401bf1d4e7384f51e71d2824bae",
       "version_major": 2,
       "version_minor": 0
      },
      "text/plain": [
       "interactive(children=(FloatSlider(value=-2.0, description='ω_c:', max=5.0, min=-5.0, step=0.01), FloatSlider(v…"
      ]
     },
     "execution_count": 34,
     "metadata": {},
     "output_type": "execute_result"
    }
   ],
   "source": [
    "def update_bode(ω_c, ζ, ω_n, r):\n",
    "    inv_pend_MF_U = ct.ss(A_cn(1, ω_c, ζ, ω_n, r), E,\n",
    "                          -kn(1, ω_c, ζ, ω_n, r).T, D)\n",
    "    inv_pend_MF_X1 = ct.ss(A_cn(1, ω_c, ζ, ω_n, r), E,\n",
    "                           np.array([[1, 0, 0]]), D)\n",
    "    inv_pend_MF_X2 = ct.ss(A_cn(1, ω_c, ζ, ω_n, r), E,\n",
    "                           np.array([[0, 1, 0]]), D)\n",
    "    plt.figure()\n",
    "    magU, phaseU, omegaU = ct.bode_plot(\n",
    "        inv_pend_MF_U, omega=np.linspace(0.1, 20, 201), color=cp['orange'], dB=True)\n",
    "    magU, phaseU, omegaU = ct.bode_plot(\n",
    "        inv_pend_MF_X1, omega=np.linspace(0.1, 20, 201), color=cp['red'], dB=True)\n",
    "    magU, phaseU, omegaU = ct.bode_plot(\n",
    "        inv_pend_MF_X2, omega=np.linspace(0.1, 20, 201), color=cp['blue'], dB=True)\n",
    "    \n",
    "    mag_ax = plt.subplot(2, 1, 1)  # magnitude plot\n",
    "    phase_ax = plt.subplot(2, 1, 2)  # phase plot\n",
    "\n",
    "    mag_ax.set_ylim([-40, 40])  # y-limits (magnitude plot)\n",
    "    phase_ax.set_ylim([-540, 0])  # y-limits (phase plot)\n",
    "    plt.legend([\"U/W\", \"X1/W\", \"X2/W\"])\n",
    "\n",
    "# Create the interactive plot\n",
    "interactive_bode = interactive(\n",
    "    update_bode, ω_c=ω_c_slider, ζ=ζ_slider, ω_n=ω_n_slider, r=r_slider)\n",
    "output = interactive_bode.children[-1]\n",
    "output.layout.height = '450px'\n",
    "interactive_bode"
   ]
  }
 ],
 "metadata": {
  "kernelspec": {
   "display_name": "P39",
   "language": "python",
   "name": "python3"
  },
  "language_info": {
   "codemirror_mode": {
    "name": "ipython",
    "version": 3
   },
   "file_extension": ".py",
   "mimetype": "text/x-python",
   "name": "python",
   "nbconvert_exporter": "python",
   "pygments_lexer": "ipython3",
   "version": "3.10.5"
  }
 },
 "nbformat": 4,
 "nbformat_minor": 2
}
